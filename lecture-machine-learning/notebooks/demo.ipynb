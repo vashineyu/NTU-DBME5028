{
 "cells": [
  {
   "cell_type": "code",
   "execution_count": 2,
   "metadata": {},
   "outputs": [],
   "source": [
    "import h5py\n",
    "import torch"
   ]
  },
  {
   "cell_type": "code",
   "execution_count": null,
   "metadata": {},
   "outputs": [],
   "source": []
  },
  {
   "cell_type": "code",
   "execution_count": 31,
   "metadata": {},
   "outputs": [],
   "source": [
    "with h5py.File(\"../data/camelyonpatch_level_2_split_valid_x.h5\", \"r\") as f:\n",
    "    key = list(f.keys())[0]\n",
    "#     data = list(f[key])\n",
    "    data = list(f.get(key))"
   ]
  },
  {
   "cell_type": "code",
   "execution_count": 33,
   "metadata": {},
   "outputs": [
    {
     "data": {
      "text/plain": [
       "array([[[224, 111, 191],\n",
       "        [239, 130, 209],\n",
       "        [230, 127, 206],\n",
       "        ...,\n",
       "        [152,  82, 170],\n",
       "        [224, 147, 225],\n",
       "        [212, 131, 200]],\n",
       "\n",
       "       [[177,  63, 150],\n",
       "        [188,  78, 164],\n",
       "        [177,  73, 158],\n",
       "        ...,\n",
       "        [215, 145, 234],\n",
       "        [224, 147, 227],\n",
       "        [215, 135, 208]],\n",
       "\n",
       "       [[208,  99, 192],\n",
       "        [194,  87, 181],\n",
       "        [173,  70, 162],\n",
       "        ...,\n",
       "        [176, 105, 197],\n",
       "        [203, 128, 210],\n",
       "        [211, 133, 208]],\n",
       "\n",
       "       ...,\n",
       "\n",
       "       [[ 88,  31, 134],\n",
       "        [ 94,  38, 137],\n",
       "        [137,  82, 176],\n",
       "        ...,\n",
       "        [158,  99, 189],\n",
       "        [110,  50, 140],\n",
       "        [119,  58, 151]],\n",
       "\n",
       "       [[155,  95, 193],\n",
       "        [132,  75, 170],\n",
       "        [ 85,  29, 118],\n",
       "        ...,\n",
       "        [121,  63, 148],\n",
       "        [ 97,  38, 128],\n",
       "        [127,  68, 160]],\n",
       "\n",
       "       [[151,  90, 185],\n",
       "        [131,  72, 164],\n",
       "        [115,  57, 142],\n",
       "        ...,\n",
       "        [166, 108, 192],\n",
       "        [122,  64, 151],\n",
       "        [ 81,  25, 114]]], dtype=uint8)"
      ]
     },
     "execution_count": 33,
     "metadata": {},
     "output_type": "execute_result"
    }
   ],
   "source": [
    "data[0]"
   ]
  },
  {
   "cell_type": "code",
   "execution_count": null,
   "metadata": {},
   "outputs": [],
   "source": []
  }
 ],
 "metadata": {
  "kernelspec": {
   "display_name": "Python 3",
   "language": "python",
   "name": "python3"
  },
  "language_info": {
   "codemirror_mode": {
    "name": "ipython",
    "version": 3
   },
   "file_extension": ".py",
   "mimetype": "text/x-python",
   "name": "python",
   "nbconvert_exporter": "python",
   "pygments_lexer": "ipython3",
   "version": "3.8.6"
  }
 },
 "nbformat": 4,
 "nbformat_minor": 4
}
